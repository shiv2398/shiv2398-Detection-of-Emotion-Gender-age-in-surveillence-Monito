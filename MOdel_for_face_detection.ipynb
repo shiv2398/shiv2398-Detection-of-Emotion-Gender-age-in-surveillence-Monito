{
 "cells": [
  {
   "cell_type": "code",
   "execution_count": 2,
   "id": "36a6d00b",
   "metadata": {},
   "outputs": [
    {
     "name": "stderr",
     "output_type": "stream",
     "text": [
      "2022-09-12 00:13:21.590003: W tensorflow/stream_executor/platform/default/dso_loader.cc:64] Could not load dynamic library 'libcudart.so.11.0'; dlerror: libcudart.so.11.0: cannot open shared object file: No such file or directory; LD_LIBRARY_PATH: /home/sahitya/.local/lib/python3.9/site-packages/cv2/../../lib64:\n",
      "2022-09-12 00:13:21.590034: I tensorflow/stream_executor/cuda/cudart_stub.cc:29] Ignore above cudart dlerror if you do not have a GPU set up on your machine.\n"
     ]
    }
   ],
   "source": [
    "\n",
    "import keras\n",
    "from keras.preprocessing.image import ImageDataGenerator\n",
    "from keras.models import Sequential\n",
    "from keras.layers import Dense,Dropout,Activation,Flatten,BatchNormalization\n",
    "from keras.layers import Conv2D,MaxPooling2D\n"
   ]
  },
  {
   "cell_type": "code",
   "execution_count": 3,
   "id": "4274a50d",
   "metadata": {},
   "outputs": [],
   "source": [
    "train_data_dir='/home/sahitya/Desktop/Projects/Age_gender_detection/fer2013/train'\n",
    "validation_data_dir='/home/sahitya/Desktop/Projects/Age_gender_detection/fer2013/validation'"
   ]
  },
  {
   "cell_type": "code",
   "execution_count": 4,
   "id": "429e49bc",
   "metadata": {},
   "outputs": [],
   "source": [
    "num_classes=7\n",
    "img_rows,img_cols=48,48\n",
    "batch_size=16"
   ]
  },
  {
   "cell_type": "code",
   "execution_count": 5,
   "id": "d2edf506",
   "metadata": {},
   "outputs": [],
   "source": [
    "train_datagen=ImageDataGenerator(\n",
    "                            rescale=1./255,\n",
    "rotation_range=30,\n",
    "shear_range=0.3,\n",
    "zoom_range=0.3,\n",
    "width_shift_range=0.4,\n",
    "height_shift_range=0.4,\n",
    "horizontal_flip=0.4,\n",
    "fill_mode='nearest')"
   ]
  },
  {
   "cell_type": "code",
   "execution_count": 6,
   "id": "5cd75b87",
   "metadata": {},
   "outputs": [
    {
     "name": "stdout",
     "output_type": "stream",
     "text": [
      "Found 28709 images belonging to 7 classes.\n"
     ]
    }
   ],
   "source": [
    "train_datagen=ImageDataGenerator(rescale=1./255)\n",
    "train_generator=train_datagen.flow_from_directory(\n",
    "train_data_dir,\n",
    "color_mode='grayscale',\n",
    "target_size=(img_rows,img_cols),\n",
    "batch_size=batch_size,\n",
    "class_mode='categorical',\n",
    "shuffle=True)"
   ]
  },
  {
   "cell_type": "code",
   "execution_count": 7,
   "id": "4400b8d2",
   "metadata": {},
   "outputs": [
    {
     "name": "stdout",
     "output_type": "stream",
     "text": [
      "Found 28709 images belonging to 7 classes.\n"
     ]
    }
   ],
   "source": [
    "validation_datagen=ImageDataGenerator(rescale=1./255)\n",
    "validation_generator=validation_datagen.flow_from_directory(\n",
    "train_data_dir,\n",
    "color_mode='grayscale',\n",
    "target_size=(img_rows,img_cols),\n",
    "batch_size=batch_size,\n",
    "class_mode='categorical',\n",
    "shuffle=True)"
   ]
  },
  {
   "cell_type": "code",
   "execution_count": 8,
   "id": "9350e66d",
   "metadata": {},
   "outputs": [],
   "source": [
    "import tensorflow\n",
    "from keras.models import Sequential\n",
    "from tensorflow.keras.layers import BatchNormalization\n",
    "from keras.layers.convolutional import Conv2D,MaxPooling2D\n",
    "from keras.layers.advanced_activations import ELU\n",
    "from keras.layers.core import Activation,Flatten,Dropout,Dense\n",
    "from tensorflow.keras.optimizers import RMSprop ,SGD,Adam\n",
    "from tensorflow.keras.callbacks import ModelCheckpoint,EarlyStopping,ReduceLROnPlateau"
   ]
  },
  {
   "cell_type": "code",
   "execution_count": 54,
   "id": "38f4a6be",
   "metadata": {},
   "outputs": [
    {
     "name": "stdout",
     "output_type": "stream",
     "text": [
      "Model: \"sequential\"\n",
      "_________________________________________________________________\n",
      " Layer (type)                Output Shape              Param #   \n",
      "=================================================================\n",
      " conv2d (Conv2D)             (None, 48, 48, 32)        320       \n",
      "                                                                 \n",
      " activation (Activation)     (None, 48, 48, 32)        0         \n",
      "                                                                 \n",
      " batch_normalization (BatchN  (None, 48, 48, 32)       128       \n",
      " ormalization)                                                   \n",
      "                                                                 \n",
      " conv2d_1 (Conv2D)           (None, 48, 48, 32)        9248      \n",
      "                                                                 \n",
      " activation_1 (Activation)   (None, 48, 48, 32)        0         \n",
      "                                                                 \n",
      " batch_normalization_1 (Batc  (None, 48, 48, 32)       128       \n",
      " hNormalization)                                                 \n",
      "                                                                 \n",
      " activation_2 (Activation)   (None, 48, 48, 32)        0         \n",
      "                                                                 \n",
      " batch_normalization_2 (Batc  (None, 48, 48, 32)       128       \n",
      " hNormalization)                                                 \n",
      "                                                                 \n",
      " max_pooling2d (MaxPooling2D  (None, 24, 24, 32)       0         \n",
      " )                                                               \n",
      "                                                                 \n",
      " dropout (Dropout)           (None, 24, 24, 32)        0         \n",
      "                                                                 \n",
      " conv2d_2 (Conv2D)           (None, 24, 24, 64)        18496     \n",
      "                                                                 \n",
      " activation_3 (Activation)   (None, 24, 24, 64)        0         \n",
      "                                                                 \n",
      " batch_normalization_3 (Batc  (None, 24, 24, 64)       256       \n",
      " hNormalization)                                                 \n",
      "                                                                 \n",
      " conv2d_3 (Conv2D)           (None, 24, 24, 64)        36928     \n",
      "                                                                 \n",
      " activation_4 (Activation)   (None, 24, 24, 64)        0         \n",
      "                                                                 \n",
      " batch_normalization_4 (Batc  (None, 24, 24, 64)       256       \n",
      " hNormalization)                                                 \n",
      "                                                                 \n",
      " activation_5 (Activation)   (None, 24, 24, 64)        0         \n",
      "                                                                 \n",
      " batch_normalization_5 (Batc  (None, 24, 24, 64)       256       \n",
      " hNormalization)                                                 \n",
      "                                                                 \n",
      " max_pooling2d_1 (MaxPooling  (None, 12, 12, 64)       0         \n",
      " 2D)                                                             \n",
      "                                                                 \n",
      " dropout_1 (Dropout)         (None, 12, 12, 64)        0         \n",
      "                                                                 \n",
      " conv2d_4 (Conv2D)           (None, 12, 12, 128)       73856     \n",
      "                                                                 \n",
      " activation_6 (Activation)   (None, 12, 12, 128)       0         \n",
      "                                                                 \n",
      " batch_normalization_6 (Batc  (None, 12, 12, 128)      512       \n",
      " hNormalization)                                                 \n",
      "                                                                 \n",
      " conv2d_5 (Conv2D)           (None, 12, 12, 128)       147584    \n",
      "                                                                 \n",
      " activation_7 (Activation)   (None, 12, 12, 128)       0         \n",
      "                                                                 \n",
      " batch_normalization_7 (Batc  (None, 12, 12, 128)      512       \n",
      " hNormalization)                                                 \n",
      "                                                                 \n",
      " activation_8 (Activation)   (None, 12, 12, 128)       0         \n",
      "                                                                 \n",
      " batch_normalization_8 (Batc  (None, 12, 12, 128)      512       \n",
      " hNormalization)                                                 \n",
      "                                                                 \n",
      " max_pooling2d_2 (MaxPooling  (None, 6, 6, 128)        0         \n",
      " 2D)                                                             \n",
      "                                                                 \n",
      " dropout_2 (Dropout)         (None, 6, 6, 128)         0         \n",
      "                                                                 \n",
      " conv2d_6 (Conv2D)           (None, 6, 6, 256)         295168    \n",
      "                                                                 \n",
      " activation_9 (Activation)   (None, 6, 6, 256)         0         \n",
      "                                                                 \n",
      " batch_normalization_9 (Batc  (None, 6, 6, 256)        1024      \n",
      " hNormalization)                                                 \n",
      "                                                                 \n",
      " conv2d_7 (Conv2D)           (None, 6, 6, 256)         590080    \n",
      "                                                                 \n",
      " activation_10 (Activation)  (None, 6, 6, 256)         0         \n",
      "                                                                 \n",
      " batch_normalization_10 (Bat  (None, 6, 6, 256)        1024      \n",
      " chNormalization)                                                \n",
      "                                                                 \n",
      " activation_11 (Activation)  (None, 6, 6, 256)         0         \n",
      "                                                                 \n",
      " batch_normalization_11 (Bat  (None, 6, 6, 256)        1024      \n",
      " chNormalization)                                                \n",
      "                                                                 \n",
      " max_pooling2d_3 (MaxPooling  (None, 3, 3, 256)        0         \n",
      " 2D)                                                             \n",
      "                                                                 \n",
      " dropout_3 (Dropout)         (None, 3, 3, 256)         0         \n",
      "                                                                 \n",
      " flatten (Flatten)           (None, 2304)              0         \n",
      "                                                                 \n",
      " dense (Dense)               (None, 64)                147520    \n",
      "                                                                 \n",
      " activation_12 (Activation)  (None, 64)                0         \n",
      "                                                                 \n",
      " batch_normalization_12 (Bat  (None, 64)               256       \n",
      " chNormalization)                                                \n",
      "                                                                 \n",
      " dropout_4 (Dropout)         (None, 64)                0         \n",
      "                                                                 \n",
      " flatten_1 (Flatten)         (None, 64)                0         \n",
      "                                                                 \n",
      " dense_1 (Dense)             (None, 64)                4160      \n",
      "                                                                 \n",
      " activation_13 (Activation)  (None, 64)                0         \n",
      "                                                                 \n",
      " batch_normalization_13 (Bat  (None, 64)               256       \n",
      " chNormalization)                                                \n",
      "                                                                 \n",
      " dropout_5 (Dropout)         (None, 64)                0         \n",
      "                                                                 \n",
      " dense_2 (Dense)             (None, 7)                 455       \n",
      "                                                                 \n",
      " activation_14 (Activation)  (None, 7)                 0         \n",
      "                                                                 \n",
      "=================================================================\n",
      "Total params: 1,330,087\n",
      "Trainable params: 1,326,951\n",
      "Non-trainable params: 3,136\n",
      "_________________________________________________________________\n",
      "None\n"
     ]
    }
   ],
   "source": [
    "model=Sequential()\n",
    "model.add(Conv2D(32,(3,3),padding='same',kernel_initializer='he_normal',\n",
    "                 input_shape=(img_rows,img_cols,1)))\n",
    "model.add(Activation('elu'))\n",
    "model.add(BatchNormalization())\n",
    "model.add(Conv2D(32,(3,3),padding='same',kernel_initializer='he_normal',\n",
    "                 input_shape=(img_rows,img_cols,1)))\n",
    "model.add(Activation('elu'))\n",
    "model.add(BatchNormalization())\n",
    "model.add(Activation('elu'))\n",
    "model.add(BatchNormalization())\n",
    "model.add(MaxPooling2D(pool_size=(2,2)))\n",
    "model.add(Dropout(0.2))\n",
    "\n",
    "model.add(Conv2D(64,(3,3),padding='same',kernel_initializer='he_normal'))\n",
    "model.add(Activation('elu'))\n",
    "model.add(BatchNormalization())\n",
    "model.add(Conv2D(64,(3,3),padding='same',kernel_initializer='he_normal'))\n",
    "model.add(Activation('elu'))\n",
    "model.add(BatchNormalization())\n",
    "model.add(Activation('elu'))\n",
    "model.add(BatchNormalization())\n",
    "model.add(MaxPooling2D(pool_size=(2,2)))\n",
    "model.add(Dropout(0.2))\n",
    "\n",
    "model.add(Conv2D(128,(3,3),padding='same',kernel_initializer='he_normal'))\n",
    "model.add(Activation('elu'))\n",
    "model.add(BatchNormalization())\n",
    "model.add(Conv2D(128,(3,3),padding='same',kernel_initializer='he_normal'))\n",
    "model.add(Activation('elu'))\n",
    "model.add(BatchNormalization())\n",
    "model.add(Activation('elu'))\n",
    "model.add(BatchNormalization())\n",
    "model.add(MaxPooling2D(pool_size=(2,2)))\n",
    "model.add(Dropout(0.2))\n",
    "\n",
    "model.add(Conv2D(256,(3,3),padding='same',kernel_initializer='he_normal'))\n",
    "model.add(Activation('elu'))\n",
    "model.add(BatchNormalization())\n",
    "model.add(Conv2D(256,(3,3),padding='same',kernel_initializer='he_normal'))\n",
    "model.add(Activation('elu'))\n",
    "model.add(BatchNormalization())\n",
    "model.add(Activation('elu'))\n",
    "model.add(BatchNormalization())\n",
    "model.add(MaxPooling2D(pool_size=(2,2)))\n",
    "model.add(Dropout(0.2))\n",
    "\n",
    "model.add(Flatten())\n",
    "model.add(Dense(64,kernel_initializer='he_normal'))\n",
    "model.add(Activation('elu'))\n",
    "model.add(BatchNormalization())\n",
    "model.add(Dropout(0.5))\n",
    "\n",
    "model.add(Flatten())\n",
    "model.add(Dense(64,kernel_initializer='he_normal'))\n",
    "model.add(Activation('elu'))\n",
    "model.add(BatchNormalization())\n",
    "model.add(Dropout(0.5))\n",
    "\n",
    "model.add(Dense(num_classes,kernel_initializer='he_normal'))\n",
    "model.add(Activation('softmax'))\n",
    "print(model.summary())"
   ]
  },
  {
   "cell_type": "code",
   "execution_count": 15,
   "id": "5fdef7dc",
   "metadata": {},
   "outputs": [],
   "source": [
    "from tensorflow.keras.optimizers import RMSprop ,SGD,Adam\n",
    "from tensorflow.keras.callbacks import ModelCheckpoint,EarlyStopping,ReduceLROnPlateau"
   ]
  },
  {
   "cell_type": "code",
   "execution_count": 60,
   "id": "320af2e1",
   "metadata": {},
   "outputs": [
    {
     "name": "stderr",
     "output_type": "stream",
     "text": [
      "/home/sahitya/.local/lib/python3.9/site-packages/keras/optimizer_v2/adam.py:105: UserWarning: The `lr` argument is deprecated, use `learning_rate` instead.\n",
      "  super(Adam, self).__init__(name, **kwargs)\n",
      "/tmp/ipykernel_43783/2172657668.py:26: UserWarning: `Model.fit_generator` is deprecated and will be removed in a future version. Please use `Model.fit`, which supports generators.\n",
      "  history=model.fit_generator(\n"
     ]
    },
    {
     "name": "stdout",
     "output_type": "stream",
     "text": [
      "Epoch 1/10\n",
      "1767/1767 [==============================] - ETA: 0s - loss: 1.3990 - accuracy: 0.4693\n",
      "Epoch 00001: val_loss improved from inf to 1.32257, saving model to ./saved_models\n",
      "INFO:tensorflow:Assets written to: ./saved_models/assets\n",
      "1767/1767 [==============================] - 514s 290ms/step - loss: 1.3990 - accuracy: 0.4693 - val_loss: 1.3226 - val_accuracy: 0.5006 - lr: 0.0100\n",
      "Epoch 2/10\n",
      "1767/1767 [==============================] - ETA: 0s - loss: 1.3186 - accuracy: 0.5027\n",
      "Epoch 00002: val_loss improved from 1.32257 to 1.14233, saving model to ./saved_models\n",
      "INFO:tensorflow:Assets written to: ./saved_models/assets\n",
      "1767/1767 [==============================] - 705s 399ms/step - loss: 1.3186 - accuracy: 0.5027 - val_loss: 1.1423 - val_accuracy: 0.5699 - lr: 0.0100\n",
      "Epoch 3/10\n",
      "1767/1767 [==============================] - ETA: 0s - loss: 1.2697 - accuracy: 0.5277\n",
      "Epoch 00003: val_loss did not improve from 1.14233\n",
      "1767/1767 [==============================] - 509s 288ms/step - loss: 1.2697 - accuracy: 0.5277 - val_loss: 1.2458 - val_accuracy: 0.5372 - lr: 0.0100\n",
      "Epoch 4/10\n",
      "1767/1767 [==============================] - ETA: 0s - loss: 1.2233 - accuracy: 0.5497\n",
      "Epoch 00004: val_loss improved from 1.14233 to 1.01189, saving model to ./saved_models\n",
      "INFO:tensorflow:Assets written to: ./saved_models/assets\n",
      "1767/1767 [==============================] - 551s 312ms/step - loss: 1.2233 - accuracy: 0.5497 - val_loss: 1.0119 - val_accuracy: 0.6264 - lr: 0.0100\n",
      "Epoch 5/10\n",
      "1767/1767 [==============================] - ETA: 0s - loss: 1.1731 - accuracy: 0.5719\n",
      "Epoch 00005: val_loss did not improve from 1.01189\n",
      "1767/1767 [==============================] - 533s 302ms/step - loss: 1.1731 - accuracy: 0.5719 - val_loss: 1.1286 - val_accuracy: 0.5852 - lr: 0.0100\n",
      "Epoch 6/10\n",
      "1767/1767 [==============================] - ETA: 0s - loss: 1.1364 - accuracy: 0.5887\n",
      "Epoch 00006: val_loss improved from 1.01189 to 0.92243, saving model to ./saved_models\n",
      "INFO:tensorflow:Assets written to: ./saved_models/assets\n",
      "1767/1767 [==============================] - 583s 330ms/step - loss: 1.1364 - accuracy: 0.5887 - val_loss: 0.9224 - val_accuracy: 0.6639 - lr: 0.0100\n",
      "Epoch 7/10\n",
      "1767/1767 [==============================] - ETA: 0s - loss: 1.1003 - accuracy: 0.6019\n",
      "Epoch 00007: val_loss improved from 0.92243 to 0.87464, saving model to ./saved_models\n",
      "INFO:tensorflow:Assets written to: ./saved_models/assets\n",
      "1767/1767 [==============================] - 551s 312ms/step - loss: 1.1003 - accuracy: 0.6019 - val_loss: 0.8746 - val_accuracy: 0.6815 - lr: 0.0100\n",
      "Epoch 8/10\n",
      "1767/1767 [==============================] - ETA: 0s - loss: 1.0674 - accuracy: 0.6167\n",
      "Epoch 00008: val_loss did not improve from 0.87464\n",
      "1767/1767 [==============================] - 534s 302ms/step - loss: 1.0674 - accuracy: 0.6167 - val_loss: 0.8971 - val_accuracy: 0.6761 - lr: 0.0100\n",
      "Epoch 9/10\n",
      "1767/1767 [==============================] - ETA: 0s - loss: 1.0378 - accuracy: 0.6333\n",
      "Epoch 00009: val_loss improved from 0.87464 to 0.79602, saving model to ./saved_models\n",
      "INFO:tensorflow:Assets written to: ./saved_models/assets\n",
      "1767/1767 [==============================] - 567s 321ms/step - loss: 1.0378 - accuracy: 0.6333 - val_loss: 0.7960 - val_accuracy: 0.7182 - lr: 0.0100\n",
      "Epoch 10/10\n",
      "1767/1767 [==============================] - ETA: 0s - loss: 0.9983 - accuracy: 0.6460\n",
      "Epoch 00010: val_loss did not improve from 0.79602\n",
      "1767/1767 [==============================] - 645s 365ms/step - loss: 0.9983 - accuracy: 0.6460 - val_loss: 0.8587 - val_accuracy: 0.6881 - lr: 0.0100\n"
     ]
    }
   ],
   "source": [
    "checkpoint=ModelCheckpoint('./saved_models',\n",
    "                              monitor='val_loss',\n",
    "                              mode='min',\n",
    "                              save_best_only=True,\n",
    "                              verbose=1)\n",
    "earlystop=EarlyStopping(monitor='val_loss',\n",
    "                           min_delta=0,\n",
    "                           patience=3,\n",
    "                           verbose=1,\n",
    "                           restore_best_weights=True)\n",
    "reduce_lr=ReduceLROnPlateau(montor='val_loss',\n",
    "                               factor=0.2,\n",
    "                               patience=3,\n",
    "                               verbose=1,\n",
    "                               min_delata=0.001)\n",
    "call_backs=[earlystop,checkpoint,reduce_lr]\n",
    "\n",
    "model.compile(\n",
    "    loss='categorical_crossentropy',\n",
    "    optimizer=Adam(lr=0.01),\n",
    "    metrics=['accuracy'])\n",
    "\n",
    "nb_train_samples=28273\n",
    "nb_validation_samples=3534\n",
    "epochs=10\n",
    "history=model.fit_generator(\n",
    "train_generator,\n",
    "steps_per_epoch=nb_train_samples//batch_size,\n",
    "epochs=epochs,\n",
    "callbacks=call_backs,\n",
    "validation_data=validation_generator,\n",
    "validation_steps=nb_validation_samples//batch_size)"
   ]
  },
  {
   "cell_type": "code",
   "execution_count": 9,
   "id": "1fbe4553",
   "metadata": {},
   "outputs": [
    {
     "name": "stdout",
     "output_type": "stream",
     "text": [
      "Found 28709 images belonging to 7 classes.\n"
     ]
    },
    {
     "ename": "NameError",
     "evalue": "name 'model' is not defined",
     "output_type": "error",
     "traceback": [
      "\u001b[0;31m---------------------------------------------------------------------------\u001b[0m",
      "\u001b[0;31mNameError\u001b[0m                                 Traceback (most recent call last)",
      "\u001b[0;32m/tmp/ipykernel_30267/3239218894.py\u001b[0m in \u001b[0;36m<module>\u001b[0;34m\u001b[0m\n\u001b[1;32m     16\u001b[0m \u001b[0mclasses\u001b[0m\u001b[0;34m=\u001b[0m\u001b[0mlist\u001b[0m\u001b[0;34m(\u001b[0m\u001b[0mclass_labels\u001b[0m\u001b[0;34m.\u001b[0m\u001b[0mvalues\u001b[0m\u001b[0;34m(\u001b[0m\u001b[0;34m)\u001b[0m\u001b[0;34m)\u001b[0m\u001b[0;34m\u001b[0m\u001b[0;34m\u001b[0m\u001b[0m\n\u001b[1;32m     17\u001b[0m \u001b[0;34m\u001b[0m\u001b[0m\n\u001b[0;32m---> 18\u001b[0;31m \u001b[0my_pred\u001b[0m\u001b[0;34m=\u001b[0m\u001b[0mmodel\u001b[0m\u001b[0;34m.\u001b[0m\u001b[0mpredict\u001b[0m\u001b[0;34m(\u001b[0m\u001b[0mvalidation_generator\u001b[0m\u001b[0;34m,\u001b[0m\u001b[0mnb_validation_samples\u001b[0m\u001b[0;34m//\u001b[0m\u001b[0mbatch_size\u001b[0m\u001b[0;34m)\u001b[0m\u001b[0;34m\u001b[0m\u001b[0;34m\u001b[0m\u001b[0m\n\u001b[0m\u001b[1;32m     19\u001b[0m \u001b[0my_pred\u001b[0m\u001b[0;34m=\u001b[0m\u001b[0mnp\u001b[0m\u001b[0;34m.\u001b[0m\u001b[0margmax\u001b[0m\u001b[0;34m(\u001b[0m\u001b[0my_pred\u001b[0m\u001b[0;34m,\u001b[0m\u001b[0maxis\u001b[0m\u001b[0;34m=\u001b[0m\u001b[0;36m1\u001b[0m\u001b[0;34m)\u001b[0m\u001b[0;34m\u001b[0m\u001b[0;34m\u001b[0m\u001b[0m\n\u001b[1;32m     20\u001b[0m \u001b[0mprint\u001b[0m\u001b[0;34m(\u001b[0m\u001b[0;34m'Confusion Matrix'\u001b[0m\u001b[0;34m)\u001b[0m\u001b[0;34m\u001b[0m\u001b[0;34m\u001b[0m\u001b[0m\n",
      "\u001b[0;31mNameError\u001b[0m: name 'model' is not defined"
     ]
    }
   ],
   "source": [
    "import matplotlib.pyplot as plt\n",
    "import sklearn\n",
    "from sklearn.metrics import classification_report ,confusion_matrix\n",
    "import numpy as np\n",
    "bn_train_samples=28273\n",
    "nb_validation_samples=3534\n",
    "validation_generator=validation_datagen.flow_from_directory(\n",
    "train_data_dir,\n",
    "color_mode='grayscale',\n",
    "target_size=(img_rows,img_cols),\n",
    "batch_size=batch_size,\n",
    "class_mode='categorical',\n",
    "shuffle=True)\n",
    "class_labels=validation_generator.class_indices\n",
    "class_labels={v:k for k,v in class_labels.items()}\n",
    "classes=list(class_labels.values())\n",
    "\n",
    "y_pred=model.predict(validation_generator,nb_validation_samples//batch_size)\n",
    "y_pred=np.argmax(y_pred,axis=1)\n",
    "print('Confusion Matrix')\n",
    "print(confusion_matrix(validation_generator.classes,y_pred))\n",
    "print('Confusion Report')\n",
    "target_names=list(class_labels.values())\n",
    "print(classification_report(validation_generator.classes,y_pred,target_names=target_names))\n",
    "cnf_matrix=confusion_matrix(validation_generator.classes,y_pred)\n",
    "plt.imshow(cnf_matrix,interpolation='nearest')\n",
    "plt.colorbar()\n",
    "tick_marks=np.arange(len(classes))\n",
    "plt.xticks(tick_marks,classes,rotation=90)\n",
    "plt.yticks(tick_marks,classes)\n",
    "plt.show()"
   ]
  },
  {
   "cell_type": "code",
   "execution_count": 10,
   "id": "06e2abf8",
   "metadata": {},
   "outputs": [],
   "source": [
    "import os\n",
    "from keras.models import load_model"
   ]
  },
  {
   "cell_type": "code",
   "execution_count": 11,
   "id": "8e720618",
   "metadata": {},
   "outputs": [],
   "source": [
    "import numpy as np"
   ]
  },
  {
   "cell_type": "code",
   "execution_count": 12,
   "id": "778dbc98",
   "metadata": {},
   "outputs": [
    {
     "name": "stderr",
     "output_type": "stream",
     "text": [
      "2022-09-12 00:13:46.915278: W tensorflow/stream_executor/platform/default/dso_loader.cc:64] Could not load dynamic library 'libcuda.so.1'; dlerror: libcuda.so.1: cannot open shared object file: No such file or directory; LD_LIBRARY_PATH: /home/sahitya/.local/lib/python3.9/site-packages/cv2/../../lib64:\n",
      "2022-09-12 00:13:46.915314: W tensorflow/stream_executor/cuda/cuda_driver.cc:269] failed call to cuInit: UNKNOWN ERROR (303)\n",
      "2022-09-12 00:13:46.915345: I tensorflow/stream_executor/cuda/cuda_diagnostics.cc:156] kernel driver does not appear to be running on this host (sahitya-Inspiron-15-3567): /proc/driver/nvidia/version does not exist\n",
      "2022-09-12 00:13:46.915564: I tensorflow/core/platform/cpu_feature_guard.cc:151] This TensorFlow binary is optimized with oneAPI Deep Neural Network Library (oneDNN) to use the following CPU instructions in performance-critical operations:  AVX2 FMA\n",
      "To enable them in other operations, rebuild TensorFlow with the appropriate compiler flags.\n"
     ]
    }
   ],
   "source": [
    "classifier= keras.models.load_model(\"/home/sahitya/Desktop/saved_models/\")\n"
   ]
  },
  {
   "cell_type": "code",
   "execution_count": 11,
   "id": "d613379e",
   "metadata": {},
   "outputs": [
    {
     "name": "stdout",
     "output_type": "stream",
     "text": [
      "Found 28709 images belonging to 7 classes.\n",
      "{0: 'Angry', 1: 'Disgust', 2: 'Fear', 3: 'Happy', 4: 'Neutral', 5: 'Sad', 6: 'Surprise'}\n"
     ]
    }
   ],
   "source": [
    "validation_generator=validation_datagen.flow_from_directory(\n",
    "train_data_dir,\n",
    "color_mode='grayscale',\n",
    "target_size=(img_rows,img_cols),\n",
    "batch_size=batch_size,\n",
    "class_mode='categorical',\n",
    "shuffle=True)\n",
    "class_labels=validation_generator.class_indices\n",
    "class_labels={v:k for k,v in class_labels.items()}\n",
    "classes=list(class_labels.values())\n",
    "print(class_labels)"
   ]
  },
  {
   "cell_type": "code",
   "execution_count": 13,
   "id": "347016b2",
   "metadata": {},
   "outputs": [],
   "source": [
    "from keras.models import load_model\n",
    "import os\n",
    "import cv2\n",
    "import numpy as np\n",
    "from os import listdir\n",
    "from os.path import isfile,join\n",
    "import re\n",
    "\n",
    "def draw_test(name,pred,im,true_label):\n",
    "    BLACK=[0,0,0]\n",
    "    expanded_image=cv2.copyMakeBorder(im,160,0,0,300,cv2.BORDER_CONSTANT,value=BLACK)\n",
    "    cv2.putText(expanded_image,'predicted'+pred,(120,60),cv2.FONT_HERSHEY_SIMPLEX,1,(0,0,255),2)\n",
    "    cv2.putText(expanded_image,'true'+true_label,(20,120),cv2.FONT_HERSHEY_SIMPLEX,1,(0,255,0),2)\n",
    "    cv2.imshow(name,expanded_image)"
   ]
  },
  {
   "cell_type": "code",
   "execution_count": 1,
   "id": "9ce2890d",
   "metadata": {},
   "outputs": [],
   "source": [
    "def getRandomImage(path,img_width,img_height):\n",
    "    folders=list(filter(lambda x:os.path.isdir(os.path.join(path,x)),os.listdir(path)))\n",
    "    random_directory=np.random.randint(0,len(folders))\n",
    "    path_class=folders[random_directory]\n",
    "    file_path=path+path_class\n",
    "    file_names=[f for f in listdir(file_path) if isfile(join(file_path,f))]\n",
    "    random_file_index=np.random.randint(0,len(file_names))\n",
    "    image_name=file_names[random_file_index]\n",
    "    final_path=file_path+'/'+image_name\n",
    "    return image.load_img(final_path,target_size=(img_width,img_height),grayscale=True),final_path,path_class\n",
    "\n",
    "     "
   ]
  },
  {
   "cell_type": "code",
   "execution_count": 15,
   "id": "d617810e",
   "metadata": {},
   "outputs": [
    {
     "name": "stderr",
     "output_type": "stream",
     "text": [
      "/home/sahitya/.local/lib/python3.9/site-packages/keras/optimizer_v2/rmsprop.py:130: UserWarning: The `lr` argument is deprecated, use `learning_rate` instead.\n",
      "  super(RMSprop, self).__init__(name, **kwargs)\n",
      "/home/sahitya/.local/lib/python3.9/site-packages/keras_preprocessing/image/utils.py:107: UserWarning: grayscale is deprecated. Please use color_mode = \"grayscale\"\n",
      "  warnings.warn('grayscale is deprecated. Please use '\n"
     ]
    },
    {
     "name": "stdout",
     "output_type": "stream",
     "text": [
      "[2]\n",
      "[3]\n",
      "[2]\n",
      "[4]\n",
      "[3]\n",
      "[0]\n",
      "[0]\n",
      "[0]\n",
      "[5]\n",
      "[5]\n"
     ]
    }
   ],
   "source": [
    "from keras.preprocessing import image\n",
    "img_width,img_height=48,48\n",
    "classifier.compile(loss='categorical_crossentropy',\n",
    "             optimizer=RMSprop(lr=0.001),\n",
    "             metrics=['accuracy'])\n",
    "\n",
    "files=[]\n",
    "prediction=[]\n",
    "true_labels=[]\n",
    "\n",
    "for i in range(0,10):\n",
    "    path='/home/sahitya/Desktop/Projects/Age_gender_detection/fer2013/validation/'\n",
    "    img,final_path,true_label=getRandomImage(path,img_width,img_height)\n",
    "    files.append(final_path)\n",
    "    true_labels.append(true_label)\n",
    "    x=image.img_to_array(img)\n",
    "    x=x*1.0/255\n",
    "    x=np.expand_dims(x,axis=0)\n",
    "    images=np.vstack([x])\n",
    "    pred=classifier.predict(images,batch_size=10)\n",
    "    classes=np.argmax(pred,axis=1)\n",
    "    print(classes)\n",
    "    prediction.append(classes)\n",
    "    \n",
    "    \n"
   ]
  },
  {
   "cell_type": "code",
   "execution_count": null,
   "id": "1928ce6c",
   "metadata": {},
   "outputs": [
    {
     "name": "stderr",
     "output_type": "stream",
     "text": [
      "Warning: Ignoring XDG_SESSION_TYPE=wayland on Gnome. Use QT_QPA_PLATFORM=wayland to run on Wayland anyway.\n"
     ]
    }
   ],
   "source": [
    "for i in range(0,len(files)):\n",
    "    image=cv2.imread((files[i]))\n",
    "    image=cv2.resize(image,None,fx=3,fy=3,interpolation=cv2.INTER_CUBIC)\n",
    "    draw_test('Prediction',class_labels[prediction[i][0]],image,true_labels[i])\n",
    "    cv2.waitKey(0)\n",
    "cv2.destroyAllWindows(0)\n",
    "    "
   ]
  },
  {
   "cell_type": "code",
   "execution_count": 61,
   "id": "ee84afe4",
   "metadata": {},
   "outputs": [
    {
     "data": {
      "text/plain": [
       "'/home/sahitya/Desktop'"
      ]
     },
     "execution_count": 61,
     "metadata": {},
     "output_type": "execute_result"
    }
   ],
   "source": []
  },
  {
   "cell_type": "code",
   "execution_count": 16,
   "id": "406c6c83",
   "metadata": {},
   "outputs": [
    {
     "ename": "SyntaxError",
     "evalue": "invalid syntax (3180759899.py, line 24)",
     "output_type": "error",
     "traceback": [
      "\u001b[0;36m  File \u001b[0;32m\"/tmp/ipykernel_23959/3180759899.py\"\u001b[0;36m, line \u001b[0;32m24\u001b[0m\n\u001b[0;31m    label_position=(rects[i][0]+=int((rects[1][i]/2)) ,abs(rects[i][2]))\u001b[0m\n\u001b[0m                               ^\u001b[0m\n\u001b[0;31mSyntaxError\u001b[0m\u001b[0;31m:\u001b[0m invalid syntax\n"
     ]
    }
   ],
   "source": [
    "face_classifier=cv2.CascadeClassifier('/home/sahitya/Desktop/haarcascade_frontalface_default.xml')\n",
    "def face_detector(img):\n",
    "    gray=cv2.cvtColor(img.copy(),cv2.COLOR_BGR2GRAY)\n",
    "    faces=face_classifier.detectMultiSacale(gray,1.3,5)\n",
    "    if faces is ():\n",
    "        return (0,0,0,0),np.zeros((48,48),np.uint8),img\n",
    "    allfaces=[]\n",
    "    rects=[]\n",
    "    for (x,y,w,h) in faces:\n",
    "        cv2.rectangle(img,(x,y),(x+w,y+w),(255,0,0),2)\n",
    "        roi_gray=gray[y:y+h,x:x+w]\n",
    "        roi_gray=cv2.resize(roi_gray,(48,48),interpolation=ccv2.INTER_AREA)\n",
    "        allfaces.append(roi_gray)\n",
    "        rects.apppend((x,w,y,h))\n",
    "    return rects,allfaces,img\n",
    "\n",
    "i=0 \n",
    "for face in faces:\n",
    "    roi=face.astype('float')/255.0\n",
    "    roi=img_to_array(roi)\n",
    "    roi=np.expand_dims(roi,axis=0)\n",
    "    preds=model.predict(roi)[0]\n",
    "    label=class_label[preds.argmax()]\n",
    "    label_position=(rects[i][0]+=int((rects[1][i]/2)) ,abs(rects[i][2]))\n",
    "    i+=1\n",
    "    cv2.putText(image,label,label_position,cv2.FRONT_HERSHEY_SIMPLEX,1,(0,255,0),2)\n",
    "cv2.imshow('Emotion Detector',image)\n",
    "cv2.waitKey(0)\n",
    "cv2.DestroyAllWindows()\n",
    "    \n",
    "    \n",
    "    "
   ]
  },
  {
   "cell_type": "code",
   "execution_count": 16,
   "id": "d2508303",
   "metadata": {},
   "outputs": [
    {
     "name": "stderr",
     "output_type": "stream",
     "text": [
      "<>:9: SyntaxWarning: \"is\" with a literal. Did you mean \"==\"?\n",
      "<>:9: SyntaxWarning: \"is\" with a literal. Did you mean \"==\"?\n",
      "/tmp/ipykernel_30267/2209127122.py:9: SyntaxWarning: \"is\" with a literal. Did you mean \"==\"?\n",
      "  if faces is ():\n"
     ]
    }
   ],
   "source": [
    "import cv2\n",
    "import numpy as np\n",
    "from time import sleep\n",
    "from keras.preprocessing.image import img_to_array\n",
    "face_classifier=cv2.CascadeClassifier('/home/sahitya/Desktop/haarcascade_frontalface_default.xml')\n",
    "def face_detector(img):\n",
    "    gray=cv2.cvtColor(img.copy(),cv2.COLOR_BGR2GRAY)\n",
    "    faces=face_classifier.detectMultiScale(gray,1.3,5)\n",
    "    if faces is ():\n",
    "        return (0,0,0,0),np.zeros((48,48),np.uint8),img\n",
    "    allfaces=[]\n",
    "    rects=[]\n",
    "    for (x,y,w,h) in faces:\n",
    "        x=x-50\n",
    "        w=w+50\n",
    "        y=y-50\n",
    "        h=h-50\n",
    "        cv2.rectangle(img,(x,y),(x+w,y+w),(255,0,0),2)\n",
    "        roi_gray=gray[y:y+h,x:x+w]\n",
    "    try:\n",
    "        roi_gray=cv2.resize(roi_gray,(48,48),interpolation=ccv2.INTER_AREA)\n",
    "    except: \n",
    "        return (x,w,y,h),np.zeros((48,48),np.uint8),img\n",
    "    return (x,y,w,h),roi_gray,img\n"
   ]
  },
  {
   "cell_type": "code",
   "execution_count": 18,
   "id": "9ca4f512",
   "metadata": {},
   "outputs": [
    {
     "name": "stderr",
     "output_type": "stream",
     "text": [
      "Warning: Ignoring XDG_SESSION_TYPE=wayland on Gnome. Use QT_QPA_PLATFORM=wayland to run on Wayland anyway.\n"
     ]
    }
   ],
   "source": [
    "import cv2\n",
    "cap=cv2.VideoCapture(0)\n",
    "while True:\n",
    "    ret,frame=cap.read()\n",
    "    rect,face,image=face_detector(frame)\n",
    "    if np.sum([face])!=0.0:\n",
    "        roi=face.astype('float')/255.0\n",
    "        roi=img_to_array(roi)\n",
    "        \n",
    "        roi=np.expand_dims(roi,axis=0)\n",
    "        \n",
    "        preds=classfier.predict((roi)[0])\n",
    "        \n",
    "        label=class_labels[preds.argmax()]\n",
    "        \n",
    "        label_position=(rect[0]+int((rect[1]/2)),rect[2]+25)\n",
    "        cv2.putText(image,label,label_position,cv2.FONT_HERSHEY_SIMPLEX,2,(0,255,0),3)\n",
    "    else:\n",
    "        cv2.putText(image,'No Face Found',(20,60),cv2.FONT_HERSHEY_SIMPLEX,2,(0,255,0),3)\n",
    "    \n",
    "    cv2.imshow('All',image)\n",
    "    if cv2.waitKey(1)==13:\n",
    "        break\n",
    "        \n",
    "cap.release()\n",
    "cv2.destroyAllWindows()"
   ]
  },
  {
   "cell_type": "code",
   "execution_count": null,
   "id": "4457ab53",
   "metadata": {},
   "outputs": [],
   "source": []
  }
 ],
 "metadata": {
  "kernelspec": {
   "display_name": "Python 3 (ipykernel)",
   "language": "python",
   "name": "python3"
  },
  "language_info": {
   "codemirror_mode": {
    "name": "ipython",
    "version": 3
   },
   "file_extension": ".py",
   "mimetype": "text/x-python",
   "name": "python",
   "nbconvert_exporter": "python",
   "pygments_lexer": "ipython3",
   "version": "3.9.7"
  }
 },
 "nbformat": 4,
 "nbformat_minor": 5
}
